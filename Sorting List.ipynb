{
 "cells": [
  {
   "cell_type": "code",
   "execution_count": 1,
   "id": "6dc52eda",
   "metadata": {},
   "outputs": [],
   "source": [
    "# Python program to get a list, sorted in increasing order by the last element in each tuple\n"
   ]
  },
  {
   "cell_type": "code",
   "execution_count": 2,
   "id": "ec3ba546",
   "metadata": {},
   "outputs": [],
   "source": [
    "def last(n):\n",
    "    return n[-1]"
   ]
  },
  {
   "cell_type": "code",
   "execution_count": 3,
   "id": "fc69e782",
   "metadata": {},
   "outputs": [],
   "source": [
    "def sort (tuples):\n",
    "    return sorted(tuples, key = last)"
   ]
  },
  {
   "cell_type": "code",
   "execution_count": 4,
   "id": "94cb441f",
   "metadata": {},
   "outputs": [
    {
     "name": "stdout",
     "output_type": "stream",
     "text": [
      "Sorted List : \n",
      "[(2, 1), (1, 2), (2, 3), (4, 4), (2, 5)]\n"
     ]
    }
   ],
   "source": [
    "sample_list = [(2,5),(1,2),(4,4),(2,3),(2,1)]\n",
    "print(\"Sorted List : \")\n",
    "print(sort(sample_list))"
   ]
  },
  {
   "cell_type": "code",
   "execution_count": null,
   "id": "88eeb4fc",
   "metadata": {},
   "outputs": [],
   "source": []
  }
 ],
 "metadata": {
  "kernelspec": {
   "display_name": "Python 3 (ipykernel)",
   "language": "python",
   "name": "python3"
  },
  "language_info": {
   "codemirror_mode": {
    "name": "ipython",
    "version": 3
   },
   "file_extension": ".py",
   "mimetype": "text/x-python",
   "name": "python",
   "nbconvert_exporter": "python",
   "pygments_lexer": "ipython3",
   "version": "3.9.5"
  }
 },
 "nbformat": 4,
 "nbformat_minor": 5
}
